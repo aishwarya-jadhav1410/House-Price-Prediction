{
 "cells": [
  {
   "cell_type": "code",
   "execution_count": 44,
   "id": "c106233b-ec9c-4367-b22e-0912f6c1b764",
   "metadata": {},
   "outputs": [],
   "source": [
    "import numpy as np\n",
    "import pandas as pd\n",
    "import matplotlib.pyplot as plt\n",
    "import seaborn as sns\n"
   ]
  },
  {
   "cell_type": "code",
   "execution_count": 45,
   "id": "df1f4d2f-996f-4020-9d63-3afb99fa0e9d",
   "metadata": {},
   "outputs": [],
   "source": [
    "ds = pd.read_csv(\"data.csv\")"
   ]
  },
  {
   "cell_type": "code",
   "execution_count": 46,
   "id": "8a14d481-5298-477f-a5ff-431b4f241de7",
   "metadata": {},
   "outputs": [
    {
     "name": "stdout",
     "output_type": "stream",
     "text": [
      "<class 'pandas.core.frame.DataFrame'>\n",
      "RangeIndex: 29451 entries, 0 to 29450\n",
      "Data columns (total 12 columns):\n",
      " #   Column                 Non-Null Count  Dtype  \n",
      "---  ------                 --------------  -----  \n",
      " 0   POSTED_BY              29451 non-null  object \n",
      " 1   UNDER_CONSTRUCTION     29451 non-null  int64  \n",
      " 2   RERA                   29451 non-null  int64  \n",
      " 3   BHK_NO.                29451 non-null  int64  \n",
      " 4   BHK_OR_RK              29451 non-null  object \n",
      " 5   SQUARE_FT              29451 non-null  float64\n",
      " 6   READY_TO_MOVE          29451 non-null  int64  \n",
      " 7   RESALE                 29451 non-null  int64  \n",
      " 8   ADDRESS                29451 non-null  object \n",
      " 9   LONGITUDE              29451 non-null  float64\n",
      " 10  LATITUDE               29451 non-null  float64\n",
      " 11  TARGET(PRICE_IN_LACS)  29451 non-null  float64\n",
      "dtypes: float64(4), int64(5), object(3)\n",
      "memory usage: 2.7+ MB\n"
     ]
    }
   ],
   "source": [
    "ds.info()"
   ]
  },
  {
   "cell_type": "code",
   "execution_count": 47,
   "id": "be6f3511-2e21-4d76-91cb-2b19331b063f",
   "metadata": {},
   "outputs": [],
   "source": [
    "#we found problem in our opinion\n",
    "#SQUARE_FT - Range 300-3000 Sqft\n",
    "#Address - Split, city\n",
    "#Longtude, latitude\n"
   ]
  },
  {
   "cell_type": "code",
   "execution_count": 48,
   "id": "1e57489c-3adc-4a03-9615-af32b45c1cb7",
   "metadata": {},
   "outputs": [
    {
     "data": {
      "text/plain": [
       "array(['Owner', 'Dealer', 'Builder'], dtype=object)"
      ]
     },
     "execution_count": 48,
     "metadata": {},
     "output_type": "execute_result"
    }
   ],
   "source": [
    "ds[\"POSTED_BY\"].unique()"
   ]
  },
  {
   "cell_type": "code",
   "execution_count": 49,
   "id": "f64fa457-cb85-4548-a763-23940008ad9b",
   "metadata": {},
   "outputs": [],
   "source": [
    "#Remove columns\n",
    "ds = ds.drop(columns=[\"LATITUDE\", \"LONGITUDE\"])"
   ]
  },
  {
   "cell_type": "code",
   "execution_count": 50,
   "id": "168266f5-56c1-48e9-8b03-30211ee76ec5",
   "metadata": {},
   "outputs": [],
   "source": [
    "# Outline remove based on SQUARE_FT])\n",
    "for i in ds.index:\n",
    "    if ds.loc[i, \"SQUARE_FT\"] > 3000 or ds.loc[i, \"SQUARE_FT\"] < 300:\n",
    "        ds.drop(i, inplace = True)"
   ]
  },
  {
   "cell_type": "code",
   "execution_count": 51,
   "id": "de95ee4c-9471-4f2a-aa87-fe6a1741336e",
   "metadata": {},
   "outputs": [],
   "source": [
    "# Outline remove based on Target(PRICE_IN_LACS])\n",
    "for i in ds.index:\n",
    "    if ds.loc[i, \"TARGET(PRICE_IN_LACS)\"] > 120 or ds.loc[i, \"TARGET(PRICE_IN_LACS)\"] < 3:\n",
    "        ds.drop(i, inplace = True)"
   ]
  },
  {
   "cell_type": "code",
   "execution_count": 52,
   "id": "d6389308-22fb-474e-8d95-53c642c52686",
   "metadata": {},
   "outputs": [],
   "source": [
    "for i in ds.index:\n",
    "     ds.loc[i, \"SQUARE_FT\"] = round(ds.loc[i, \"SQUARE_FT\"], 2)"
   ]
  },
  {
   "cell_type": "code",
   "execution_count": 53,
   "id": "7a0c2cd6-4aa1-451b-a70a-e7be37259dfe",
   "metadata": {},
   "outputs": [
    {
     "data": {
      "text/plain": [
       "array([0, 1], dtype=int64)"
      ]
     },
     "execution_count": 53,
     "metadata": {},
     "output_type": "execute_result"
    }
   ],
   "source": [
    "ds[\"UNDER_CONSTRUCTION\"].unique()"
   ]
  },
  {
   "cell_type": "code",
   "execution_count": 54,
   "id": "730eb532-b2b7-42f0-882b-924057d79357",
   "metadata": {},
   "outputs": [
    {
     "data": {
      "text/plain": [
       "array([0, 1], dtype=int64)"
      ]
     },
     "execution_count": 54,
     "metadata": {},
     "output_type": "execute_result"
    }
   ],
   "source": [
    "ds[\"RERA\"].unique()"
   ]
  },
  {
   "cell_type": "code",
   "execution_count": 55,
   "id": "a8e77dd2-cff2-4736-9fcf-6d4243f9cecc",
   "metadata": {},
   "outputs": [],
   "source": [
    "ds['CITY'] = ds['ADDRESS'].str.split(\",\").str.get(-1).str.strip()\n",
    "#for columns in ds.columns:\n",
    "   # print(\"------------\")\n",
    "  # print (columns)\n",
    "   # print(sorted(ds[columns].unique()))\n",
    "    "
   ]
  },
  {
   "cell_type": "code",
   "execution_count": 56,
   "id": "2c9dca54-03eb-4ce3-a85b-7301d3e9d1f9",
   "metadata": {},
   "outputs": [],
   "source": [
    "for i in ds.index:\n",
    "    address = ds.loc[i,\"ADDRESS\"]\n",
    "    city = ds.loc[i, \"CITY\"]\n",
    "    address = address.replace(\",\" + city, \"\")\n",
    "    ds.loc[i, \"ADDRESS\"] = address"
   ]
  },
  {
   "cell_type": "code",
   "execution_count": 57,
   "id": "af825bb9-d7ff-41fd-85f5-f798f08f09af",
   "metadata": {},
   "outputs": [],
   "source": [
    "ds.to_csv(\"cleaned_data.csv\")\n"
   ]
  },
  {
   "cell_type": "code",
   "execution_count": null,
   "id": "437870ff-e80d-464f-b081-400f9eb4b0ab",
   "metadata": {},
   "outputs": [],
   "source": []
  }
 ],
 "metadata": {
  "kernelspec": {
   "display_name": "Python 3 (ipykernel)",
   "language": "python",
   "name": "python3"
  },
  "language_info": {
   "codemirror_mode": {
    "name": "ipython",
    "version": 3
   },
   "file_extension": ".py",
   "mimetype": "text/x-python",
   "name": "python",
   "nbconvert_exporter": "python",
   "pygments_lexer": "ipython3",
   "version": "3.12.7"
  }
 },
 "nbformat": 4,
 "nbformat_minor": 5
}
